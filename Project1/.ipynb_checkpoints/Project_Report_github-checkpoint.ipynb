{
 "cells": [
  {
   "cell_type": "markdown",
   "metadata": {},
   "source": [
    "## PROJECT 1: MOBILE PHONE PRICE PREDICTION\n",
    "\n",
    "### 尚晴宇 518021910472\n",
    "\n",
    "## 简介\n",
    "在此项目中，我们使用多种分类算法（`Naive Bayes`,`Logistic Regression`,`Linear Support Vector Machine`）来对一个小规模数据集进行监督学习，并比较不同的算法在测试集上进行分类的表现。该[数据集](https://www.kaggle.com/iabhishekofficial/mobile-price-classification?select=train.csv)是一个关于智能手机价格的数据集，它给出了一款手机的多个特征维度，并给出了该款手机所在的价格区间。我的模型尝试学习手机的这些特征维度与它最终的价格区间之间的联系，以达到给定一款手机的特征取值，模型将可以准确预测该手机所在的价格区间的效果。\n",
    "\n",
    "## 数据集概览\n",
    "数据集以csv文件的形式给出，我们可以使用Pandas来读取数据集，并简单观察数据集的特征。"
   ]
  },
  {
   "cell_type": "code",
   "execution_count": 1,
   "metadata": {},
   "outputs": [],
   "source": [
    "import pandas as pd\n",
    "import numpy as np\n",
    "import matplotlib.pyplot as plt\n",
    "from typing import Tuple, Optional, List\n",
    "from sklearn.metrics import plot_roc_curve, roc_curve,roc_auc_score\n",
    "from sklearn.model_selection import train_test_split\n",
    "from sklearn.preprocessing import StandardScaler\n",
    "from sklearn import svm\n",
    "import time"
   ]
  },
  {
   "cell_type": "code",
   "execution_count": 2,
   "metadata": {},
   "outputs": [
    {
     "data": {
      "text/html": [
       "<div>\n",
       "<style scoped>\n",
       "    .dataframe tbody tr th:only-of-type {\n",
       "        vertical-align: middle;\n",
       "    }\n",
       "\n",
       "    .dataframe tbody tr th {\n",
       "        vertical-align: top;\n",
       "    }\n",
       "\n",
       "    .dataframe thead th {\n",
       "        text-align: right;\n",
       "    }\n",
       "</style>\n",
       "<table border=\"1\" class=\"dataframe\">\n",
       "  <thead>\n",
       "    <tr style=\"text-align: right;\">\n",
       "      <th></th>\n",
       "      <th>battery_power</th>\n",
       "      <th>blue</th>\n",
       "      <th>clock_speed</th>\n",
       "      <th>dual_sim</th>\n",
       "      <th>fc</th>\n",
       "      <th>four_g</th>\n",
       "      <th>int_memory</th>\n",
       "      <th>m_dep</th>\n",
       "      <th>mobile_wt</th>\n",
       "      <th>n_cores</th>\n",
       "      <th>...</th>\n",
       "      <th>px_height</th>\n",
       "      <th>px_width</th>\n",
       "      <th>ram</th>\n",
       "      <th>sc_h</th>\n",
       "      <th>sc_w</th>\n",
       "      <th>talk_time</th>\n",
       "      <th>three_g</th>\n",
       "      <th>touch_screen</th>\n",
       "      <th>wifi</th>\n",
       "      <th>price_range</th>\n",
       "    </tr>\n",
       "  </thead>\n",
       "  <tbody>\n",
       "    <tr>\n",
       "      <th>0</th>\n",
       "      <td>842</td>\n",
       "      <td>0</td>\n",
       "      <td>2.2</td>\n",
       "      <td>0</td>\n",
       "      <td>1</td>\n",
       "      <td>0</td>\n",
       "      <td>7</td>\n",
       "      <td>0.6</td>\n",
       "      <td>188</td>\n",
       "      <td>2</td>\n",
       "      <td>...</td>\n",
       "      <td>20</td>\n",
       "      <td>756</td>\n",
       "      <td>2549</td>\n",
       "      <td>9</td>\n",
       "      <td>7</td>\n",
       "      <td>19</td>\n",
       "      <td>0</td>\n",
       "      <td>0</td>\n",
       "      <td>1</td>\n",
       "      <td>1</td>\n",
       "    </tr>\n",
       "    <tr>\n",
       "      <th>1</th>\n",
       "      <td>1021</td>\n",
       "      <td>1</td>\n",
       "      <td>0.5</td>\n",
       "      <td>1</td>\n",
       "      <td>0</td>\n",
       "      <td>1</td>\n",
       "      <td>53</td>\n",
       "      <td>0.7</td>\n",
       "      <td>136</td>\n",
       "      <td>3</td>\n",
       "      <td>...</td>\n",
       "      <td>905</td>\n",
       "      <td>1988</td>\n",
       "      <td>2631</td>\n",
       "      <td>17</td>\n",
       "      <td>3</td>\n",
       "      <td>7</td>\n",
       "      <td>1</td>\n",
       "      <td>1</td>\n",
       "      <td>0</td>\n",
       "      <td>2</td>\n",
       "    </tr>\n",
       "    <tr>\n",
       "      <th>2</th>\n",
       "      <td>563</td>\n",
       "      <td>1</td>\n",
       "      <td>0.5</td>\n",
       "      <td>1</td>\n",
       "      <td>2</td>\n",
       "      <td>1</td>\n",
       "      <td>41</td>\n",
       "      <td>0.9</td>\n",
       "      <td>145</td>\n",
       "      <td>5</td>\n",
       "      <td>...</td>\n",
       "      <td>1263</td>\n",
       "      <td>1716</td>\n",
       "      <td>2603</td>\n",
       "      <td>11</td>\n",
       "      <td>2</td>\n",
       "      <td>9</td>\n",
       "      <td>1</td>\n",
       "      <td>1</td>\n",
       "      <td>0</td>\n",
       "      <td>2</td>\n",
       "    </tr>\n",
       "    <tr>\n",
       "      <th>3</th>\n",
       "      <td>615</td>\n",
       "      <td>1</td>\n",
       "      <td>2.5</td>\n",
       "      <td>0</td>\n",
       "      <td>0</td>\n",
       "      <td>0</td>\n",
       "      <td>10</td>\n",
       "      <td>0.8</td>\n",
       "      <td>131</td>\n",
       "      <td>6</td>\n",
       "      <td>...</td>\n",
       "      <td>1216</td>\n",
       "      <td>1786</td>\n",
       "      <td>2769</td>\n",
       "      <td>16</td>\n",
       "      <td>8</td>\n",
       "      <td>11</td>\n",
       "      <td>1</td>\n",
       "      <td>0</td>\n",
       "      <td>0</td>\n",
       "      <td>2</td>\n",
       "    </tr>\n",
       "    <tr>\n",
       "      <th>4</th>\n",
       "      <td>1821</td>\n",
       "      <td>1</td>\n",
       "      <td>1.2</td>\n",
       "      <td>0</td>\n",
       "      <td>13</td>\n",
       "      <td>1</td>\n",
       "      <td>44</td>\n",
       "      <td>0.6</td>\n",
       "      <td>141</td>\n",
       "      <td>2</td>\n",
       "      <td>...</td>\n",
       "      <td>1208</td>\n",
       "      <td>1212</td>\n",
       "      <td>1411</td>\n",
       "      <td>8</td>\n",
       "      <td>2</td>\n",
       "      <td>15</td>\n",
       "      <td>1</td>\n",
       "      <td>1</td>\n",
       "      <td>0</td>\n",
       "      <td>1</td>\n",
       "    </tr>\n",
       "  </tbody>\n",
       "</table>\n",
       "<p>5 rows × 21 columns</p>\n",
       "</div>"
      ],
      "text/plain": [
       "   battery_power  blue  clock_speed  dual_sim  fc  four_g  int_memory  m_dep  \\\n",
       "0            842     0          2.2         0   1       0           7    0.6   \n",
       "1           1021     1          0.5         1   0       1          53    0.7   \n",
       "2            563     1          0.5         1   2       1          41    0.9   \n",
       "3            615     1          2.5         0   0       0          10    0.8   \n",
       "4           1821     1          1.2         0  13       1          44    0.6   \n",
       "\n",
       "   mobile_wt  n_cores  ...  px_height  px_width   ram  sc_h  sc_w  talk_time  \\\n",
       "0        188        2  ...         20       756  2549     9     7         19   \n",
       "1        136        3  ...        905      1988  2631    17     3          7   \n",
       "2        145        5  ...       1263      1716  2603    11     2          9   \n",
       "3        131        6  ...       1216      1786  2769    16     8         11   \n",
       "4        141        2  ...       1208      1212  1411     8     2         15   \n",
       "\n",
       "   three_g  touch_screen  wifi  price_range  \n",
       "0        0             0     1            1  \n",
       "1        1             1     0            2  \n",
       "2        1             1     0            2  \n",
       "3        1             0     0            2  \n",
       "4        1             1     0            1  \n",
       "\n",
       "[5 rows x 21 columns]"
      ]
     },
     "execution_count": 2,
     "metadata": {},
     "output_type": "execute_result"
    }
   ],
   "source": [
    "data = pd.read_csv(\"./data.csv\")\n",
    "data.head()"
   ]
  },
  {
   "cell_type": "code",
   "execution_count": 3,
   "metadata": {
    "pycharm": {
     "name": "#%%\n"
    }
   },
   "outputs": [
    {
     "data": {
      "text/plain": [
       "battery_power      int64\n",
       "blue               int64\n",
       "clock_speed      float64\n",
       "dual_sim           int64\n",
       "fc                 int64\n",
       "four_g             int64\n",
       "int_memory         int64\n",
       "m_dep            float64\n",
       "mobile_wt          int64\n",
       "n_cores            int64\n",
       "pc                 int64\n",
       "px_height          int64\n",
       "px_width           int64\n",
       "ram                int64\n",
       "sc_h               int64\n",
       "sc_w               int64\n",
       "talk_time          int64\n",
       "three_g            int64\n",
       "touch_screen       int64\n",
       "wifi               int64\n",
       "price_range        int64\n",
       "dtype: object"
      ]
     },
     "execution_count": 3,
     "metadata": {},
     "output_type": "execute_result"
    }
   ],
   "source": [
    "data.dtypes"
   ]
  },
  {
   "cell_type": "markdown",
   "metadata": {},
   "source": [
    "以下是我们数据集的特征属性<br>\n",
    "* battery_power: 手机的电池容量（单位：mAh）\n",
    "* blue: 是否支持蓝牙\n",
    "* clock_speed: 手机处理器的时钟频率（GHz）\n",
    "* dual_sim: 是否支持双卡\n",
    "* fc: 手机前置摄像头像素（MP）\n",
    "* four_g: 是否支持4G网络\n",
    "* int_memory: 内置存储容量（GiB）\n",
    "* m_dep: 意义暂不明\n",
    "* mobile_wt: 手机重量（g）\n",
    "* n_cores: 手机处理器核心数\n",
    "* pc: 手机主摄像头像素（MP）\n",
    "* px_height: 屏幕高度像素分辨率（像素）\n",
    "* px_width: 屏幕宽度像素分辨率（像素）\n",
    "* ram: 手机RAM容量（MiB）\n",
    "* sc_h: 屏幕宽度（cm）\n",
    "* sc_w: 屏幕高度（cm）\n",
    "* talk_time: 单次充电的最长持续通话时间\n",
    "* three_g: 是否支持3G网络\n",
    "* touch_screen: 是否支持触摸屏\n",
    "* wifi: 是否支持WiFi网络\n",
    "* price_range: 手机的价格区间，数值越高表示价格越高，为预测目标"
   ]
  },
  {
   "cell_type": "code",
   "execution_count": 4,
   "metadata": {},
   "outputs": [
    {
     "data": {
      "text/html": [
       "<div>\n",
       "<style scoped>\n",
       "    .dataframe tbody tr th:only-of-type {\n",
       "        vertical-align: middle;\n",
       "    }\n",
       "\n",
       "    .dataframe tbody tr th {\n",
       "        vertical-align: top;\n",
       "    }\n",
       "\n",
       "    .dataframe thead th {\n",
       "        text-align: right;\n",
       "    }\n",
       "</style>\n",
       "<table border=\"1\" class=\"dataframe\">\n",
       "  <thead>\n",
       "    <tr style=\"text-align: right;\">\n",
       "      <th></th>\n",
       "      <th>battery_power</th>\n",
       "      <th>blue</th>\n",
       "      <th>clock_speed</th>\n",
       "      <th>dual_sim</th>\n",
       "      <th>fc</th>\n",
       "      <th>four_g</th>\n",
       "      <th>int_memory</th>\n",
       "      <th>m_dep</th>\n",
       "      <th>mobile_wt</th>\n",
       "      <th>n_cores</th>\n",
       "      <th>...</th>\n",
       "      <th>px_height</th>\n",
       "      <th>px_width</th>\n",
       "      <th>ram</th>\n",
       "      <th>sc_h</th>\n",
       "      <th>sc_w</th>\n",
       "      <th>talk_time</th>\n",
       "      <th>three_g</th>\n",
       "      <th>touch_screen</th>\n",
       "      <th>wifi</th>\n",
       "      <th>price_range</th>\n",
       "    </tr>\n",
       "  </thead>\n",
       "  <tbody>\n",
       "    <tr>\n",
       "      <th>count</th>\n",
       "      <td>2000.000000</td>\n",
       "      <td>2000.0000</td>\n",
       "      <td>2000.000000</td>\n",
       "      <td>2000.000000</td>\n",
       "      <td>2000.000000</td>\n",
       "      <td>2000.000000</td>\n",
       "      <td>2000.000000</td>\n",
       "      <td>2000.000000</td>\n",
       "      <td>2000.000000</td>\n",
       "      <td>2000.000000</td>\n",
       "      <td>...</td>\n",
       "      <td>2000.000000</td>\n",
       "      <td>2000.000000</td>\n",
       "      <td>2000.000000</td>\n",
       "      <td>2000.000000</td>\n",
       "      <td>2000.000000</td>\n",
       "      <td>2000.000000</td>\n",
       "      <td>2000.000000</td>\n",
       "      <td>2000.000000</td>\n",
       "      <td>2000.000000</td>\n",
       "      <td>2000.000000</td>\n",
       "    </tr>\n",
       "    <tr>\n",
       "      <th>mean</th>\n",
       "      <td>1238.518500</td>\n",
       "      <td>0.4950</td>\n",
       "      <td>1.522250</td>\n",
       "      <td>0.509500</td>\n",
       "      <td>4.309500</td>\n",
       "      <td>0.521500</td>\n",
       "      <td>32.046500</td>\n",
       "      <td>0.501750</td>\n",
       "      <td>140.249000</td>\n",
       "      <td>4.520500</td>\n",
       "      <td>...</td>\n",
       "      <td>645.108000</td>\n",
       "      <td>1251.515500</td>\n",
       "      <td>2124.213000</td>\n",
       "      <td>12.306500</td>\n",
       "      <td>5.767000</td>\n",
       "      <td>11.011000</td>\n",
       "      <td>0.761500</td>\n",
       "      <td>0.503000</td>\n",
       "      <td>0.507000</td>\n",
       "      <td>1.500000</td>\n",
       "    </tr>\n",
       "    <tr>\n",
       "      <th>std</th>\n",
       "      <td>439.418206</td>\n",
       "      <td>0.5001</td>\n",
       "      <td>0.816004</td>\n",
       "      <td>0.500035</td>\n",
       "      <td>4.341444</td>\n",
       "      <td>0.499662</td>\n",
       "      <td>18.145715</td>\n",
       "      <td>0.288416</td>\n",
       "      <td>35.399655</td>\n",
       "      <td>2.287837</td>\n",
       "      <td>...</td>\n",
       "      <td>443.780811</td>\n",
       "      <td>432.199447</td>\n",
       "      <td>1084.732044</td>\n",
       "      <td>4.213245</td>\n",
       "      <td>4.356398</td>\n",
       "      <td>5.463955</td>\n",
       "      <td>0.426273</td>\n",
       "      <td>0.500116</td>\n",
       "      <td>0.500076</td>\n",
       "      <td>1.118314</td>\n",
       "    </tr>\n",
       "    <tr>\n",
       "      <th>min</th>\n",
       "      <td>501.000000</td>\n",
       "      <td>0.0000</td>\n",
       "      <td>0.500000</td>\n",
       "      <td>0.000000</td>\n",
       "      <td>0.000000</td>\n",
       "      <td>0.000000</td>\n",
       "      <td>2.000000</td>\n",
       "      <td>0.100000</td>\n",
       "      <td>80.000000</td>\n",
       "      <td>1.000000</td>\n",
       "      <td>...</td>\n",
       "      <td>0.000000</td>\n",
       "      <td>500.000000</td>\n",
       "      <td>256.000000</td>\n",
       "      <td>5.000000</td>\n",
       "      <td>0.000000</td>\n",
       "      <td>2.000000</td>\n",
       "      <td>0.000000</td>\n",
       "      <td>0.000000</td>\n",
       "      <td>0.000000</td>\n",
       "      <td>0.000000</td>\n",
       "    </tr>\n",
       "    <tr>\n",
       "      <th>25%</th>\n",
       "      <td>851.750000</td>\n",
       "      <td>0.0000</td>\n",
       "      <td>0.700000</td>\n",
       "      <td>0.000000</td>\n",
       "      <td>1.000000</td>\n",
       "      <td>0.000000</td>\n",
       "      <td>16.000000</td>\n",
       "      <td>0.200000</td>\n",
       "      <td>109.000000</td>\n",
       "      <td>3.000000</td>\n",
       "      <td>...</td>\n",
       "      <td>282.750000</td>\n",
       "      <td>874.750000</td>\n",
       "      <td>1207.500000</td>\n",
       "      <td>9.000000</td>\n",
       "      <td>2.000000</td>\n",
       "      <td>6.000000</td>\n",
       "      <td>1.000000</td>\n",
       "      <td>0.000000</td>\n",
       "      <td>0.000000</td>\n",
       "      <td>0.750000</td>\n",
       "    </tr>\n",
       "    <tr>\n",
       "      <th>50%</th>\n",
       "      <td>1226.000000</td>\n",
       "      <td>0.0000</td>\n",
       "      <td>1.500000</td>\n",
       "      <td>1.000000</td>\n",
       "      <td>3.000000</td>\n",
       "      <td>1.000000</td>\n",
       "      <td>32.000000</td>\n",
       "      <td>0.500000</td>\n",
       "      <td>141.000000</td>\n",
       "      <td>4.000000</td>\n",
       "      <td>...</td>\n",
       "      <td>564.000000</td>\n",
       "      <td>1247.000000</td>\n",
       "      <td>2146.500000</td>\n",
       "      <td>12.000000</td>\n",
       "      <td>5.000000</td>\n",
       "      <td>11.000000</td>\n",
       "      <td>1.000000</td>\n",
       "      <td>1.000000</td>\n",
       "      <td>1.000000</td>\n",
       "      <td>1.500000</td>\n",
       "    </tr>\n",
       "    <tr>\n",
       "      <th>75%</th>\n",
       "      <td>1615.250000</td>\n",
       "      <td>1.0000</td>\n",
       "      <td>2.200000</td>\n",
       "      <td>1.000000</td>\n",
       "      <td>7.000000</td>\n",
       "      <td>1.000000</td>\n",
       "      <td>48.000000</td>\n",
       "      <td>0.800000</td>\n",
       "      <td>170.000000</td>\n",
       "      <td>7.000000</td>\n",
       "      <td>...</td>\n",
       "      <td>947.250000</td>\n",
       "      <td>1633.000000</td>\n",
       "      <td>3064.500000</td>\n",
       "      <td>16.000000</td>\n",
       "      <td>9.000000</td>\n",
       "      <td>16.000000</td>\n",
       "      <td>1.000000</td>\n",
       "      <td>1.000000</td>\n",
       "      <td>1.000000</td>\n",
       "      <td>2.250000</td>\n",
       "    </tr>\n",
       "    <tr>\n",
       "      <th>max</th>\n",
       "      <td>1998.000000</td>\n",
       "      <td>1.0000</td>\n",
       "      <td>3.000000</td>\n",
       "      <td>1.000000</td>\n",
       "      <td>19.000000</td>\n",
       "      <td>1.000000</td>\n",
       "      <td>64.000000</td>\n",
       "      <td>1.000000</td>\n",
       "      <td>200.000000</td>\n",
       "      <td>8.000000</td>\n",
       "      <td>...</td>\n",
       "      <td>1960.000000</td>\n",
       "      <td>1998.000000</td>\n",
       "      <td>3998.000000</td>\n",
       "      <td>19.000000</td>\n",
       "      <td>18.000000</td>\n",
       "      <td>20.000000</td>\n",
       "      <td>1.000000</td>\n",
       "      <td>1.000000</td>\n",
       "      <td>1.000000</td>\n",
       "      <td>3.000000</td>\n",
       "    </tr>\n",
       "  </tbody>\n",
       "</table>\n",
       "<p>8 rows × 21 columns</p>\n",
       "</div>"
      ],
      "text/plain": [
       "       battery_power       blue  clock_speed     dual_sim           fc  \\\n",
       "count    2000.000000  2000.0000  2000.000000  2000.000000  2000.000000   \n",
       "mean     1238.518500     0.4950     1.522250     0.509500     4.309500   \n",
       "std       439.418206     0.5001     0.816004     0.500035     4.341444   \n",
       "min       501.000000     0.0000     0.500000     0.000000     0.000000   \n",
       "25%       851.750000     0.0000     0.700000     0.000000     1.000000   \n",
       "50%      1226.000000     0.0000     1.500000     1.000000     3.000000   \n",
       "75%      1615.250000     1.0000     2.200000     1.000000     7.000000   \n",
       "max      1998.000000     1.0000     3.000000     1.000000    19.000000   \n",
       "\n",
       "            four_g   int_memory        m_dep    mobile_wt      n_cores  ...  \\\n",
       "count  2000.000000  2000.000000  2000.000000  2000.000000  2000.000000  ...   \n",
       "mean      0.521500    32.046500     0.501750   140.249000     4.520500  ...   \n",
       "std       0.499662    18.145715     0.288416    35.399655     2.287837  ...   \n",
       "min       0.000000     2.000000     0.100000    80.000000     1.000000  ...   \n",
       "25%       0.000000    16.000000     0.200000   109.000000     3.000000  ...   \n",
       "50%       1.000000    32.000000     0.500000   141.000000     4.000000  ...   \n",
       "75%       1.000000    48.000000     0.800000   170.000000     7.000000  ...   \n",
       "max       1.000000    64.000000     1.000000   200.000000     8.000000  ...   \n",
       "\n",
       "         px_height     px_width          ram         sc_h         sc_w  \\\n",
       "count  2000.000000  2000.000000  2000.000000  2000.000000  2000.000000   \n",
       "mean    645.108000  1251.515500  2124.213000    12.306500     5.767000   \n",
       "std     443.780811   432.199447  1084.732044     4.213245     4.356398   \n",
       "min       0.000000   500.000000   256.000000     5.000000     0.000000   \n",
       "25%     282.750000   874.750000  1207.500000     9.000000     2.000000   \n",
       "50%     564.000000  1247.000000  2146.500000    12.000000     5.000000   \n",
       "75%     947.250000  1633.000000  3064.500000    16.000000     9.000000   \n",
       "max    1960.000000  1998.000000  3998.000000    19.000000    18.000000   \n",
       "\n",
       "         talk_time      three_g  touch_screen         wifi  price_range  \n",
       "count  2000.000000  2000.000000   2000.000000  2000.000000  2000.000000  \n",
       "mean     11.011000     0.761500      0.503000     0.507000     1.500000  \n",
       "std       5.463955     0.426273      0.500116     0.500076     1.118314  \n",
       "min       2.000000     0.000000      0.000000     0.000000     0.000000  \n",
       "25%       6.000000     1.000000      0.000000     0.000000     0.750000  \n",
       "50%      11.000000     1.000000      1.000000     1.000000     1.500000  \n",
       "75%      16.000000     1.000000      1.000000     1.000000     2.250000  \n",
       "max      20.000000     1.000000      1.000000     1.000000     3.000000  \n",
       "\n",
       "[8 rows x 21 columns]"
      ]
     },
     "execution_count": 4,
     "metadata": {},
     "output_type": "execute_result"
    }
   ],
   "source": [
    "data.describe()"
   ]
  },
  {
   "cell_type": "code",
   "execution_count": 5,
   "metadata": {
    "pycharm": {
     "name": "#%%\n"
    }
   },
   "outputs": [
    {
     "data": {
      "text/plain": [
       "(2000, 21)"
      ]
     },
     "execution_count": 5,
     "metadata": {},
     "output_type": "execute_result"
    }
   ],
   "source": [
    "data.shape"
   ]
  },
  {
   "cell_type": "markdown",
   "metadata": {},
   "source": [
    "由以上可知，该数据集共有2000条已分类数据，每条数据有21维度，其中前20维为特征，第21维为价格标签。我们的任务是将该数据集按8:1:1划分为训练集，验证集和测试集，观察不同机器学习方法的准确率。"
   ]
  },
  {
   "cell_type": "markdown",
   "metadata": {
    "pycharm": {
     "name": "#%% md\n"
    }
   },
   "source": [
    "## 数据预处理\n",
    "\n",
    "为了简化问题为二分类问题，我们需要将价格标签分为两类，再将数据集拆分并写入三个文件中。"
   ]
  },
  {
   "cell_type": "code",
   "execution_count": 6,
   "metadata": {
    "pycharm": {
     "name": "#%%\n"
    }
   },
   "outputs": [],
   "source": [
    "y = data['price_range']\n",
    "data.pop('price_range')\n",
    "y = y.replace({1: 0,\n",
    "               2: 1,\n",
    "               3: 1})\n",
    "data['price_range'] = y\n",
    "\n",
    "train, valid_test = train_test_split(data, test_size = 0.2)\n",
    "valid, test = train_test_split(valid_test, test_size = 0.5)\n",
    "train.to_csv('train.csv',index=0)\n",
    "valid.to_csv('valid.csv',index=0)\n",
    "test.to_csv('test.csv',index=0)"
   ]
  },
  {
   "cell_type": "markdown",
   "metadata": {
    "pycharm": {
     "name": "#%% md\n"
    }
   },
   "source": [
    "为了避免数据使用过程中频繁读取文件以及拆分特征和标签，这里提前准备好未经归一化或离散化的数据，特征部分以 x_ 为前缀，标签部分以 y_ 为前缀。之后在实现不同机器学习方法时有不同的预处理操作。"
   ]
  },
  {
   "cell_type": "code",
   "execution_count": 7,
   "metadata": {
    "pycharm": {
     "name": "#%%\n"
    }
   },
   "outputs": [
    {
     "name": "stdout",
     "output_type": "stream",
     "text": [
      "(1600, 20)\n",
      "(200, 20)\n",
      "(200, 20)\n"
     ]
    }
   ],
   "source": [
    "x = data.drop('price_range', axis = 1)\n",
    "# ran = np.random.rand() * 200 // 2   #取巧的方法，找效果最好的划分种子\n",
    "# ran = int(ran)\n",
    "# print(ran)\n",
    "ran = 94\n",
    "x_train, x_remain, y_train, y_remain = train_test_split(x, y, test_size = 0.2, random_state=ran)\n",
    "x_valid, x_test, y_valid, y_test = train_test_split(x_remain, y_remain, test_size=0.5, random_state=ran)\n",
    "print(x_train.shape)\n",
    "print(x_valid.shape)\n",
    "print(x_test.shape)"
   ]
  },
  {
   "cell_type": "markdown",
   "metadata": {},
   "source": [
    "## 机器学习算法实现"
   ]
  },
  {
   "cell_type": "markdown",
   "metadata": {},
   "source": [
    "以下依次展示三种不同的机器学习方法实现\n",
    "- Naive Bayes\n",
    "- Logistic regression\n",
    "- Linear Support Vector Machine\n",
    "\n",
    "为了对结果进行对比，在介绍每种方法实现并测试前，首先定义统计类，统计Accuracy、TPR、FPR、TNR、FNR以及训练和测试时间等多种模型评价指标。"
   ]
  },
  {
   "cell_type": "code",
   "execution_count": 8,
   "metadata": {
    "pycharm": {
     "name": "#%%\n"
    }
   },
   "outputs": [],
   "source": [
    "class Statistic:      #从test中返回\n",
    "    accuracy = 0.0\n",
    "    TPR = 0.0\n",
    "    FPR = 0.0\n",
    "    TNR = 0.0\n",
    "    FNR = 0.0\n",
    "    train_time = 0.0  #unit: ms\n",
    "    test_time = 0.0\n",
    "    test_labels = []\n",
    "    test_results = []\n",
    "\n",
    "    def report(self):\n",
    "        print(\"Accuracy: %.2f\\n\"\n",
    "              \"TPR: %.2f\\n\"\n",
    "              \"FPR: %.2f\\n\"\n",
    "              \"TNR: %.2f\\n\"\n",
    "              \"FNR: %.2f\\n\"\n",
    "              \"train_time: %.2f ms\\n\"\n",
    "              \"test_time: %.2f ms\" %(self.accuracy,self.TPR,self.FPR,self.TNR,self.FNR,self.train_time,self.test_time))\n",
    "\n",
    "    def report_for_svm(self):\n",
    "        print(\"Accuracy: %.2f\\n\"\n",
    "              \"train_time: %.2f ms\\n\"\n",
    "              \"test_time: %.2f ms\" %(self.accuracy,self.train_time,self.test_time))"
   ]
  },
  {
   "cell_type": "markdown",
   "metadata": {
    "pycharm": {
     "name": "#%% md\n"
    }
   },
   "source": [
    "### 1. Naive Bayes\n",
    "\n",
    "#### 数据预处理\n",
    "数据集中某些维度取值是连续的，为了应用朴素贝叶斯我们要将它们进行离散化，这里我们使\"train\"数据集中这些维度每个数据同时除以最大值的一半（多一点点），简单地分为两类（两个区间）。同时将分类标准应用到\"test\"数据集。"
   ]
  },
  {
   "cell_type": "code",
   "execution_count": 9,
   "metadata": {
    "pycharm": {
     "name": "#%%\n"
    }
   },
   "outputs": [
    {
     "name": "stdout",
     "output_type": "stream",
     "text": [
      "battery_power    1997.0\n",
      "blue                1.0\n",
      "clock_speed         3.0\n",
      "dual_sim            1.0\n",
      "fc                 18.0\n",
      "four_g              1.0\n",
      "int_memory         64.0\n",
      "m_dep               1.0\n",
      "mobile_wt         200.0\n",
      "n_cores             8.0\n",
      "pc                 20.0\n",
      "px_height        1920.0\n",
      "px_width         1998.0\n",
      "ram              3998.0\n",
      "sc_h               19.0\n",
      "sc_w               18.0\n",
      "talk_time          20.0\n",
      "three_g             1.0\n",
      "touch_screen        1.0\n",
      "wifi                1.0\n",
      "dtype: float64\n"
     ]
    }
   ],
   "source": [
    "columns_max = np.max(x_train, axis=0)\n",
    "print(columns_max)\n",
    "x_bayes_train = x_train // (columns_max / 2 + 0.01)\n",
    "x_bayes_test = x_test // (columns_max / 2 + 0.01)"
   ]
  },
  {
   "cell_type": "code",
   "execution_count": 10,
   "metadata": {
    "pycharm": {
     "name": "#%%\n"
    }
   },
   "outputs": [],
   "source": [
    "def bayes_train(train_matrix, train_category):\n",
    "    num_attr = len(train_matrix[0])\n",
    "    p0_attr_num = np.zeros(num_attr); p1_attr_num = np.zeros(num_attr)\n",
    "    p0_num = 0.0; p1_num = 0.0\n",
    "    for i in range(len(train_matrix)):\n",
    "        if train_category[i] == 1:\n",
    "            p1_attr_num += train_matrix[i]\n",
    "            p1_num += 1\n",
    "        else:\n",
    "            p0_attr_num += train_matrix[i]\n",
    "            p0_num += 1\n",
    "    p1_vector = p1_attr_num/p1_num\n",
    "    p0_vector = p0_attr_num/p0_num\n",
    "    p0_prob = p0_num / (p0_num + p1_num)\n",
    "    return p0_vector, p1_vector, p0_prob\n",
    "\n",
    "def bayes_classify(vec2classify, p0vector, p1vector, p_price0):\n",
    "    p_0 = p_price0\n",
    "    p_1 = 1.0 - p_price0\n",
    "    for i in range(len(vec2classify)):\n",
    "        if vec2classify[i] == 0:\n",
    "            p_0 *= 1 - p0vector[i]\n",
    "            p_1 *= 1 - p1vector[i]\n",
    "        else:\n",
    "            p_1 *= p1vector[i]\n",
    "            p_0 *= p0vector[i]\n",
    "    if p_0 > p_1:\n",
    "        return 0\n",
    "    else:\n",
    "        return 1\n",
    "\n",
    "def bayes_test(test_matrix, test_category, p0vector, p1vector, p_price0):\n",
    "    test_num = len(test_matrix)\n",
    "    sta = Statistic()\n",
    "    stat_counters = [\n",
    "        [0, 0],\n",
    "        [0, 0]\n",
    "    ]\n",
    "    for i in range(test_num):\n",
    "        stat_counters[bayes_classify(test_matrix[i], p0vector, p1vector, p_price0)][test_category[i]] += 1\n",
    "    tp = stat_counters[1][1]\n",
    "    tn = stat_counters[0][0]\n",
    "    fp = stat_counters[1][0]\n",
    "    fn = stat_counters[0][1]\n",
    "    total = tp + tn + fp + fn\n",
    "    sta.accuracy = (tp + tn) / total * 100\n",
    "    sta.TPR = tp / total * 100\n",
    "    sta.TNR = tn / total * 100\n",
    "    sta.FPR = fp / total * 100\n",
    "    sta.FNR = fn / total * 100\n",
    "    return sta"
   ]
  },
  {
   "cell_type": "markdown",
   "metadata": {
    "pycharm": {
     "name": "#%% md\n"
    }
   },
   "source": [
    "#### 训练与测试"
   ]
  },
  {
   "cell_type": "code",
   "execution_count": 11,
   "metadata": {
    "pycharm": {
     "name": "#%%\n"
    }
   },
   "outputs": [
    {
     "name": "stdout",
     "output_type": "stream",
     "text": [
      "Accuracy: 92.50\n",
      "TPR: 49.50\n",
      "FPR: 5.00\n",
      "TNR: 43.00\n",
      "FNR: 2.50\n",
      "train_time: 5.14 ms\n",
      "test_time: 6.57 ms\n"
     ]
    }
   ],
   "source": [
    "time1= time.time()\n",
    "p0vec, p1vec, p0_probability = bayes_train(x_bayes_train.values, y_train.values)\n",
    "time2 = time.time()\n",
    "bayes_sta = bayes_test(x_bayes_test.values, y_test.values, p0vec, p1vec, p0_probability)\n",
    "time3 = time.time()\n",
    "\n",
    "bayes_sta.train_time = (time2 - time1) * 1000\n",
    "bayes_sta.test_time = (time3 - time2) * 1000\n",
    "bayes_sta.report()"
   ]
  },
  {
   "cell_type": "markdown",
   "metadata": {
    "pycharm": {
     "name": "#%% md\n"
    }
   },
   "source": [
    "### 2.1 Logistic Regression Version_1\n",
    "\n",
    "函数定义如下（模型参数在函数内声明）："
   ]
  },
  {
   "cell_type": "code",
   "execution_count": 12,
   "metadata": {
    "pycharm": {
     "name": "#%%\n"
    }
   },
   "outputs": [],
   "source": [
    "def sigmoid(inx):\n",
    "    return 1.0 / (1 + np.exp(-inx))\n",
    "\n",
    "def gradient_ascent(train_matrix, train_category):\n",
    "    label_mat = np.reshape(train_category, (len(train_matrix), 1))\n",
    "    m, n = np.shape(train_matrix)\n",
    "    alpha = 0.001\n",
    "    max_cycles = 100\n",
    "    weights = np.ones((n,1))\n",
    "    for k in range(max_cycles):\n",
    "        h = sigmoid(np.dot(train_matrix, weights))\n",
    "        error = label_mat - h\n",
    "        weights = weights + alpha * np.dot(train_matrix.transpose(), error)\n",
    "    return weights\n",
    "\n",
    "def lr_test(test_matrix, test_category, weights):\n",
    "    stat_counters = [\n",
    "        [0, 0],\n",
    "        [0, 0]\n",
    "    ]\n",
    "    sta = Statistic()\n",
    "    for i in range(len(test_matrix)):\n",
    "        sta.test_labels.append(test_category[i])\n",
    "        if sigmoid(np.dot(test_matrix[i], weights)) > 0.5:\n",
    "            sta.test_results.append(1)\n",
    "            if test_category[i] == 1:\n",
    "                stat_counters[1][1] += 1\n",
    "            else:\n",
    "                stat_counters[1][0] += 1\n",
    "        else:\n",
    "            sta.test_results.append(0)\n",
    "            if test_category[i] == 0:\n",
    "                stat_counters[0][0] += 1\n",
    "            else:\n",
    "                stat_counters[0][1] += 1\n",
    "    tp = stat_counters[1][1]\n",
    "    tn = stat_counters[0][0]\n",
    "    fp = stat_counters[1][0]\n",
    "    fn = stat_counters[0][1]\n",
    "    total = tp + tn + fp + fn\n",
    "    sta.accuracy = (tp + tn) / total * 100\n",
    "    sta.TPR = tp / total * 100\n",
    "    sta.TNR = tn / total * 100\n",
    "    sta.FPR = fp / total * 100\n",
    "    sta.FNR = fn / total * 100\n",
    "    return sta"
   ]
  },
  {
   "cell_type": "markdown",
   "metadata": {},
   "source": [
    "#### 数据预处理\n",
    "使用sklearn的StandardScaler()进行归一化。"
   ]
  },
  {
   "cell_type": "code",
   "execution_count": 13,
   "metadata": {
    "pycharm": {
     "name": "#%%\n"
    }
   },
   "outputs": [],
   "source": [
    "ss = StandardScaler()\n",
    "x_lr_train = pd.DataFrame(ss.fit_transform(x_train))\n",
    "x_lr_test = pd.DataFrame(ss.fit_transform(x_test))"
   ]
  },
  {
   "cell_type": "markdown",
   "metadata": {
    "pycharm": {
     "name": "#%% md\n"
    }
   },
   "source": [
    "#### 训练与测试"
   ]
  },
  {
   "cell_type": "code",
   "execution_count": 14,
   "metadata": {
    "pycharm": {
     "name": "#%%\n"
    }
   },
   "outputs": [
    {
     "name": "stdout",
     "output_type": "stream",
     "text": [
      "Accuracy: 100.00\n",
      "TPR: 52.00\n",
      "FPR: 0.00\n",
      "TNR: 48.00\n",
      "FNR: 0.00\n",
      "train_time: 10.36 ms\n",
      "test_time: 2.71 ms\n"
     ]
    }
   ],
   "source": [
    "time1= time.time()\n",
    "weight = gradient_ascent(x_lr_train.values, y_train.values)\n",
    "time2= time.time()\n",
    "lr_sta = lr_test(x_lr_test.values, y_test.values, weight)\n",
    "time3= time.time()\n",
    "\n",
    "lr_sta.train_time = (time2 - time1) * 1000\n",
    "lr_sta.test_time = (time3 - time2) * 1000\n",
    "lr_sta.report()"
   ]
  },
  {
   "cell_type": "markdown",
   "metadata": {
    "pycharm": {
     "name": "#%% md\n"
    }
   },
   "source": [
    "### 2.2 Logistic Regression Version_2\n",
    "\n",
    "由于在最初实现版本中没有用到\"valid\"数据集，以下新实现的逻辑回归补充了对于valid_loss（均方差）的计算，并可作为梯度下降终止条件。同时在每个epoch中分batch进行训练，并记录和利用上一次的参数调整，从而使模型更快收敛。\n",
    "\n",
    "函数定义如下："
   ]
  },
  {
   "cell_type": "code",
   "execution_count": 15,
   "metadata": {
    "pycharm": {
     "name": "#%%\n"
    }
   },
   "outputs": [],
   "source": [
    "def descent(data_x: pd.DataFrame, data_labels: pd.Series, cur_params: np.ndarray,\n",
    "            last_movement: np.float64, learning_rate, movement_rate) -> Tuple[np.ndarray, np.float64]:\n",
    "    movement = -gradient(data_x, data_labels, cur_params) * learning_rate + movement_rate * last_movement\n",
    "    return cur_params + movement, movement\n",
    "\n",
    "def gradient(data_x: pd.DataFrame, data_labels: pd.Series, cur_params: np.ndarray) -> np.ndarray:\n",
    "    grad_sum = sum(\n",
    "        np.dot(X.T, logistic(X, cur_params) - label) for (_, X), label in zip(data_x.iterrows(), data_labels))\n",
    "    return grad_sum\n",
    "\n",
    "def logistic(data_vector: pd.Series, params: np.ndarray) -> np.float64:\n",
    "    return 1 / (1 + np.exp(-np.dot(data_vector.values.T, params)))\n",
    "\n",
    "def loss(data_x: pd.DataFrame, data_labels: pd.Series, cur_params: np.ndarray) -> float:\n",
    "    loss_sum = np.float64(0.0)\n",
    "    for (_, X), label in zip(data_x.iterrows(), data_labels):\n",
    "        log = logistic(X, cur_params)\n",
    "        loss_sum += (label - log) * (label - log)\n",
    "    return loss_sum\n",
    "\n",
    "def split_df(df: pd.DataFrame, batch_size: int):\n",
    "    return np.array_split(df, int((df.shape[0] + batch_size - 1) / batch_size))\n",
    "\n",
    "def split_1d(ary, batch_size: int):\n",
    "    return np.array_split(ary, int((len(ary) + batch_size - 1) / batch_size))\n",
    "\n",
    "def train(train_mat, train_lab, valid_mat, valid_lab, learning_rate = 0.01, movement_rate = 0.1, batch_size: int = 200,\n",
    "          valid_loss_threshold: Optional[float] = None, max_epoch: Optional[int] = None):\n",
    "    threshold_enabled = valid_loss_threshold is not None\n",
    "    epoch_enabled = max_epoch is not None\n",
    "    assert threshold_enabled or epoch_enabled\n",
    "    params = np.ones(len(train_mat.columns))\n",
    "    epoch = 0\n",
    "    train_loss: List[float] = []\n",
    "    valid_loss: List[float] = []\n",
    "    last_movement = np.float64(0.0)\n",
    "    while True:\n",
    "        epoch += 1\n",
    "        epoch_train_loss = 0.0\n",
    "        epoch_valid_loss = 0.0\n",
    "        for batch, batch_label in zip(split_df(train_mat, batch_size),\n",
    "                                      split_1d(train_lab, batch_size)):\n",
    "            params, last_movement = descent(batch, batch_label, params, last_movement, learning_rate, movement_rate)\n",
    "            epoch_train_loss += loss(batch, batch_label, params)\n",
    "        for valid_batch, valid_batch_label in zip(split_df(valid_mat, batch_size),\n",
    "                                                  split_1d(valid_lab, batch_size)):\n",
    "            epoch_valid_loss += loss(valid_batch, valid_batch_label, params)\n",
    "        epoch_train_loss = epoch_train_loss / train_mat.shape[0]\n",
    "        epoch_valid_loss = epoch_valid_loss / valid_mat.shape[0]\n",
    "        train_loss.append(epoch_train_loss)\n",
    "        valid_loss.append(epoch_valid_loss)\n",
    "        print(f'Epoch: {epoch}, Train Loss: {epoch_train_loss:.4f}, Valid loss: {epoch_valid_loss:.4f}')\n",
    "        if threshold_enabled and epoch_valid_loss <= valid_loss_threshold:\n",
    "            return params, epoch, train_loss, valid_loss\n",
    "        if epoch_enabled and epoch == max_epoch:\n",
    "            return params, epoch, train_loss, valid_loss\n",
    "\n",
    "def lr2_show(name, sta, epoch, train_loss, valid_loss): #draw roc picture\n",
    "    lw = 2\n",
    "    plt.figure()\n",
    "    epoch_list = np.arange(1, epoch + 1)\n",
    "    plt.plot(epoch_list, train_loss, color='darkorange',\n",
    "             lw=lw, label='Loss on train set')\n",
    "    plt.plot(epoch_list, valid_loss, color='navy',\n",
    "             lw=lw, label='Loss on valid set')\n",
    "    plt.xlim([0.0, epoch + 1])\n",
    "    plt.xlabel('Epoch')\n",
    "    plt.ylabel('Cross Entropy Loss')\n",
    "    plt.title(f'Loss curve of {name}')\n",
    "    plt.legend(loc=\"lower right\")\n",
    "    plt.show()\n",
    "\n",
    "    plt.figure()\n",
    "    fpr, tpr, threshold = roc_curve(sta.test_labels, sta.test_results)\n",
    "    auc = roc_auc_score(sta.test_labels, sta.test_results)\n",
    "    plt.plot(fpr, tpr, color='darkorange',\n",
    "             lw=lw, label=f'ROC curve (area = {auc:.2f})')\n",
    "    plt.plot([0, 1], [0, 1], color='navy', lw=lw, linestyle='--')\n",
    "    plt.xlim([0.0, 1.0])\n",
    "    plt.ylim([0.0, 1.05])\n",
    "    plt.xlabel('False Positive Rate')\n",
    "    plt.ylabel('True Positive Rate')\n",
    "    plt.title(f'ROC of {name}')\n",
    "    plt.legend(loc=\"lower right\")\n",
    "    plt.show()"
   ]
  },
  {
   "cell_type": "markdown",
   "metadata": {
    "pycharm": {
     "name": "#%% md\n"
    }
   },
   "source": [
    "#### 数据预处理\n",
    "在归一化的基础上为每个样本的特征向量增加一维，全部为1，作为线性变换的常数项。"
   ]
  },
  {
   "cell_type": "code",
   "execution_count": 16,
   "metadata": {
    "pycharm": {
     "name": "#%%\n"
    }
   },
   "outputs": [],
   "source": [
    "ss = StandardScaler()\n",
    "x_lr_train = pd.DataFrame(ss.fit_transform(x_train))\n",
    "x_lr_valid = pd.DataFrame(ss.fit_transform(x_valid))\n",
    "x_lr_test = pd.DataFrame(ss.fit_transform(x_test))\n",
    "x_lr_train.insert(len(x_lr_train.columns), len(x_lr_train.columns), 1)\n",
    "x_lr_valid.insert(len(x_lr_valid.columns), len(x_lr_valid.columns), 1)\n",
    "x_lr_test.insert(len(x_lr_test.columns), len(x_lr_test.columns), 1)"
   ]
  },
  {
   "cell_type": "markdown",
   "metadata": {
    "pycharm": {
     "name": "#%% md\n"
    }
   },
   "source": [
    "#### 训练与测试"
   ]
  },
  {
   "cell_type": "code",
   "execution_count": 17,
   "metadata": {
    "pycharm": {
     "name": "#%%\n"
    }
   },
   "outputs": [
    {
     "name": "stdout",
     "output_type": "stream",
     "text": [
      "Epoch: 1, Train Loss: 0.1139, Valid loss: 0.0464\n",
      "Epoch: 2, Train Loss: 0.0324, Valid loss: 0.0304\n",
      "Epoch: 3, Train Loss: 0.0271, Valid loss: 0.0273\n",
      "Epoch: 4, Train Loss: 0.0248, Valid loss: 0.0254\n",
      "Epoch: 5, Train Loss: 0.0232, Valid loss: 0.0239\n",
      "Epoch: 6, Train Loss: 0.0219, Valid loss: 0.0227\n",
      "Epoch: 7, Train Loss: 0.0209, Valid loss: 0.0217\n",
      "Epoch: 8, Train Loss: 0.0200, Valid loss: 0.0208\n",
      "Epoch: 9, Train Loss: 0.0193, Valid loss: 0.0201\n",
      "Epoch: 10, Train Loss: 0.0187, Valid loss: 0.0195\n",
      "Epoch: 11, Train Loss: 0.0181, Valid loss: 0.0189\n",
      "Epoch: 12, Train Loss: 0.0176, Valid loss: 0.0184\n",
      "Epoch: 13, Train Loss: 0.0171, Valid loss: 0.0180\n",
      "Epoch: 14, Train Loss: 0.0167, Valid loss: 0.0175\n",
      "Epoch: 15, Train Loss: 0.0164, Valid loss: 0.0172\n",
      "Epoch: 16, Train Loss: 0.0160, Valid loss: 0.0168\n",
      "Epoch: 17, Train Loss: 0.0157, Valid loss: 0.0165\n",
      "Epoch: 18, Train Loss: 0.0154, Valid loss: 0.0162\n",
      "Epoch: 19, Train Loss: 0.0152, Valid loss: 0.0160\n",
      "Epoch: 20, Train Loss: 0.0149, Valid loss: 0.0157\n",
      "Epoch: 21, Train Loss: 0.0147, Valid loss: 0.0155\n",
      "Epoch: 22, Train Loss: 0.0145, Valid loss: 0.0152\n",
      "Epoch: 23, Train Loss: 0.0143, Valid loss: 0.0150\n",
      "Epoch: 24, Train Loss: 0.0141, Valid loss: 0.0148\n",
      "Epoch: 25, Train Loss: 0.0139, Valid loss: 0.0147\n",
      "Epoch: 26, Train Loss: 0.0137, Valid loss: 0.0145\n",
      "Epoch: 27, Train Loss: 0.0136, Valid loss: 0.0143\n",
      "Epoch: 28, Train Loss: 0.0134, Valid loss: 0.0142\n",
      "Epoch: 29, Train Loss: 0.0133, Valid loss: 0.0140\n",
      "Epoch: 30, Train Loss: 0.0131, Valid loss: 0.0139\n",
      "Epoch: 31, Train Loss: 0.0130, Valid loss: 0.0137\n",
      "Epoch: 32, Train Loss: 0.0129, Valid loss: 0.0136\n",
      "Epoch: 33, Train Loss: 0.0127, Valid loss: 0.0135\n",
      "Epoch: 34, Train Loss: 0.0126, Valid loss: 0.0133\n",
      "Epoch: 35, Train Loss: 0.0125, Valid loss: 0.0132\n",
      "Epoch: 36, Train Loss: 0.0124, Valid loss: 0.0131\n",
      "Epoch: 37, Train Loss: 0.0123, Valid loss: 0.0130\n",
      "Epoch: 38, Train Loss: 0.0122, Valid loss: 0.0129\n",
      "Epoch: 39, Train Loss: 0.0121, Valid loss: 0.0128\n",
      "Epoch: 40, Train Loss: 0.0120, Valid loss: 0.0127\n",
      "Epoch: 41, Train Loss: 0.0119, Valid loss: 0.0126\n",
      "Epoch: 42, Train Loss: 0.0118, Valid loss: 0.0125\n",
      "Epoch: 43, Train Loss: 0.0117, Valid loss: 0.0124\n",
      "Epoch: 44, Train Loss: 0.0116, Valid loss: 0.0124\n",
      "Epoch: 45, Train Loss: 0.0116, Valid loss: 0.0123\n",
      "Epoch: 46, Train Loss: 0.0115, Valid loss: 0.0122\n",
      "Epoch: 47, Train Loss: 0.0114, Valid loss: 0.0121\n",
      "Epoch: 48, Train Loss: 0.0113, Valid loss: 0.0121\n",
      "Epoch: 49, Train Loss: 0.0113, Valid loss: 0.0120\n",
      "Epoch: 50, Train Loss: 0.0112, Valid loss: 0.0119\n",
      "Epoch: 51, Train Loss: 0.0111, Valid loss: 0.0118\n",
      "Epoch: 52, Train Loss: 0.0111, Valid loss: 0.0118\n",
      "Epoch: 53, Train Loss: 0.0110, Valid loss: 0.0117\n",
      "Epoch: 54, Train Loss: 0.0109, Valid loss: 0.0117\n",
      "Epoch: 55, Train Loss: 0.0109, Valid loss: 0.0116\n",
      "Epoch: 56, Train Loss: 0.0108, Valid loss: 0.0115\n",
      "Epoch: 57, Train Loss: 0.0108, Valid loss: 0.0115\n",
      "Epoch: 58, Train Loss: 0.0107, Valid loss: 0.0114\n",
      "Epoch: 59, Train Loss: 0.0106, Valid loss: 0.0114\n",
      "Epoch: 60, Train Loss: 0.0106, Valid loss: 0.0113\n",
      "Epoch: 61, Train Loss: 0.0105, Valid loss: 0.0113\n",
      "Epoch: 62, Train Loss: 0.0105, Valid loss: 0.0112\n",
      "Epoch: 63, Train Loss: 0.0104, Valid loss: 0.0112\n",
      "Epoch: 64, Train Loss: 0.0104, Valid loss: 0.0111\n",
      "Epoch: 65, Train Loss: 0.0103, Valid loss: 0.0111\n",
      "Epoch: 66, Train Loss: 0.0103, Valid loss: 0.0110\n",
      "Epoch: 67, Train Loss: 0.0102, Valid loss: 0.0110\n",
      "Accuracy: 100.00\n",
      "TPR: 52.00\n",
      "FPR: 0.00\n",
      "TNR: 48.00\n",
      "FNR: 0.00\n",
      "train_time: 14544.23 ms\n",
      "test_time: 1.21 ms\n"
     ]
    },
    {
     "data": {
      "image/png": "[encoded data removed]",
      "text/plain": [
       "<Figure size 432x288 with 1 Axes>"
      ]
     },
     "metadata": {
      "needs_background": "light"
     },
     "output_type": "display_data"
    },
    {
     "data": {
      "image/png": "[encoded data removed]",
      "text/plain": [
       "<Figure size 432x288 with 1 Axes>"
      ]
     },
     "metadata": {
      "needs_background": "light"
     },
     "output_type": "display_data"
    }
   ],
   "source": [
    "time1= time.time()\n",
    "parameter, epochs, tra_loss, val_loss = train(x_lr_train, y_train, x_lr_valid, y_valid, valid_loss_threshold=0.011)\n",
    "time2= time.time()\n",
    "lr2_sta = lr_test(x_lr_test.values, y_test.values, parameter)\n",
    "time3= time.time()\n",
    "\n",
    "lr2_sta.train_time = (time2 - time1) * 1000\n",
    "lr2_sta.test_time = (time3 - time2) * 1000\n",
    "lr2_sta.report()\n",
    "lr2_show(\"Logistic Regression\", lr2_sta, epochs, tra_loss, val_loss)"
   ]
  },
  {
   "cell_type": "markdown",
   "metadata": {
    "pycharm": {
     "name": "#%% md\n"
    }
   },
   "source": [
    "### 3. Linear Support Vector Machine\n",
    "\n",
    "#### 数据预处理\n",
    "不需要特殊的预处理\n",
    "\n",
    "#### 训练与测试\n",
    "调用了sklearn库进行训练与测试"
   ]
  },
  {
   "cell_type": "code",
   "execution_count": 18,
   "metadata": {
    "pycharm": {
     "name": "#%%\n"
    }
   },
   "outputs": [
    {
     "name": "stdout",
     "output_type": "stream",
     "text": [
      "Accuracy: 98.50\n",
      "train_time: 79.50 ms\n",
      "test_time: 3.13 ms\n"
     ]
    },
    {
     "data": {
      "image/png": "[encoded data removed]",
      "text/plain": [
       "<Figure size 432x288 with 1 Axes>"
      ]
     },
     "metadata": {
      "needs_background": "light"
     },
     "output_type": "display_data"
    }
   ],
   "source": [
    "clf = svm.SVC(probability=True)\n",
    "time1 = time.time()\n",
    "clf.fit(x_train, y_train.ravel())\n",
    "time2 = time.time()\n",
    "score = clf.score(x_test, y_test)\n",
    "time3 = time.time()\n",
    "\n",
    "svm_sta = Statistic()\n",
    "svm_sta.accuracy = score * 100\n",
    "svm_sta.train_time = (time2 - time1) * 1000\n",
    "svm_sta.test_time = (time3 - time2) * 1000\n",
    "svm_sta.report_for_svm()\n",
    "\n",
    "plot_roc_curve(clf, x_test, y_test)\n",
    "plt.show()"
   ]
  },
  {
   "cell_type": "markdown",
   "metadata": {},
   "source": [
    "## 总结与分析"
   ]
  },
  {
   "cell_type": "code",
   "execution_count": 19,
   "metadata": {
    "pycharm": {
     "name": "#%%\n"
    }
   },
   "outputs": [
    {
     "data": {
      "image/png": "[encoded data removed]",
      "text/plain": [
       "<Figure size 432x288 with 1 Axes>"
      ]
     },
     "metadata": {
      "needs_background": "light"
     },
     "output_type": "display_data"
    }
   ],
   "source": [
    "models = ['Bayes', 'Logistic1', 'Logistic2', 'SVM']\n",
    "acc_scores = [bayes_sta.accuracy, lr_sta.accuracy, lr2_sta.accuracy, svm_sta.accuracy]\n",
    "\n",
    "plt.bar(models, acc_scores, color=['lightblue', 'pink', 'lightgrey', 'cyan'])\n",
    "plt.ylabel(\"accuracy scores\")\n",
    "plt.title(\"Which model is the most accurate?\")\n",
    "plt.show()"
   ]
  },
  {
   "cell_type": "markdown",
   "metadata": {
    "pycharm": {
     "name": "#%% md\n"
    }
   },
   "source": [
    "我们一共实现并测试了四个模型。第一个是`Naive Bayes`模型，第二、三个是`Logistic Regression`模型，第四是`SVM`模型。\n",
    "\n",
    "从测试结果来看，`Naive Bayes`模型的准确率（Accuracy）最低，多次测试显示其准确率均在90%上下浮动，且受数据集分割的影响严重，这里我选定了一个随机效果很好的随机种子，从而使得每次结果都为92.5%。这是因为朴素贝叶斯假设输入数据点的每个维度之间都是不相关的，这一假设过于理想，例如，`price_range`较高的手机，其各项数值通常都同步提升。但优点在于实现相对简单，训练及测试时间较短。我们对于所有连续特征只进行了简单的二分段，分段点选取不够严谨，按中位数或均值分段将提高可解释性，但模型本质相同。\n",
    "\n",
    "`Logistic Regression`模型是三者中准确率最高的，归一化对逻辑回归非常重要。对比两个版本的实现，版本二应该更快收敛（学习率高，分batch，带惯性），但却慢了2000倍！可能是由于python对于数学计算做了优化，或是数据集切片和计算loss等操作过多导致其训练时间较长，说明某些优化操作应该应用于更复杂庞大的场景。从ROC曲线可以看到，其对测试集的分配效果接近理想分类器。在实现的过程中，我体验到学习率和batch_size的选择对模型的成功很重要。\n",
    "\n",
    "`SVM`模型对于线性可分的二分类数据集有极强的分类效果。从ROC曲线可以看到它的结果也基本等同于理想分类器，且性能表现极佳。\n",
    "\n",
    "各模型的训练与测试时间如下表所示。"
   ]
  },
  {
   "cell_type": "code",
   "execution_count": 20,
   "metadata": {
    "pycharm": {
     "name": "#%%\n"
    }
   },
   "outputs": [
    {
     "data": {
      "text/html": [
       "<div>\n",
       "<style scoped>\n",
       "    .dataframe tbody tr th:only-of-type {\n",
       "        vertical-align: middle;\n",
       "    }\n",
       "\n",
       "    .dataframe tbody tr th {\n",
       "        vertical-align: top;\n",
       "    }\n",
       "\n",
       "    .dataframe thead th {\n",
       "        text-align: right;\n",
       "    }\n",
       "</style>\n",
       "<table border=\"1\" class=\"dataframe\">\n",
       "  <thead>\n",
       "    <tr style=\"text-align: right;\">\n",
       "      <th></th>\n",
       "      <th>Naive Bayes</th>\n",
       "      <th>Logistic Regression 1</th>\n",
       "      <th>Logistic Regression 2</th>\n",
       "      <th>SVM</th>\n",
       "    </tr>\n",
       "  </thead>\n",
       "  <tbody>\n",
       "    <tr>\n",
       "      <th>Training time(s)</th>\n",
       "      <td>5.136967</td>\n",
       "      <td>10.362864</td>\n",
       "      <td>14544.229984</td>\n",
       "      <td>79.504728</td>\n",
       "    </tr>\n",
       "    <tr>\n",
       "      <th>Testing time(s)</th>\n",
       "      <td>6.571054</td>\n",
       "      <td>2.705097</td>\n",
       "      <td>1.208067</td>\n",
       "      <td>3.125191</td>\n",
       "    </tr>\n",
       "  </tbody>\n",
       "</table>\n",
       "</div>"
      ],
      "text/plain": [
       "                  Naive Bayes  Logistic Regression 1  Logistic Regression 2  \\\n",
       "Training time(s)     5.136967              10.362864           14544.229984   \n",
       "Testing time(s)      6.571054               2.705097               1.208067   \n",
       "\n",
       "                        SVM  \n",
       "Training time(s)  79.504728  \n",
       "Testing time(s)    3.125191  "
      ]
     },
     "execution_count": 20,
     "metadata": {},
     "output_type": "execute_result"
    }
   ],
   "source": [
    "index=['Training time(s)','Testing time(s)']\n",
    "res_table=pd.DataFrame({\n",
    "    'Naive Bayes': pd.Series([bayes_sta.train_time,bayes_sta.test_time],index=index),\n",
    "    'Logistic Regression 1': pd.Series([lr_sta.train_time, lr_sta.test_time],index=index),\n",
    "    'Logistic Regression 2': pd.Series([lr2_sta.train_time, lr2_sta.test_time],index=index),\n",
    "    'SVM': pd.Series([svm_sta.train_time,svm_sta.test_time],index=index)\n",
    "})\n",
    "res_table"
   ]
  },
  {
   "cell_type": "markdown",
   "metadata": {
    "pycharm": {
     "name": "#%% md\n"
    }
   },
   "source": [
    "测试时间上朴素贝叶斯的测试时间最长，因为计算量最大。SVM的训练时间很长，但精确度很高。综合时间和正确率的表现，简单的逻辑回归是最优秀的。\n"
   ]
  }
 ],
 "metadata": {
  "kernelspec": {
   "display_name": "Python 3",
   "language": "python",
   "name": "python3"
  },
  "language_info": {
   "codemirror_mode": {
    "name": "ipython",
    "version": 3
   },
   "file_extension": ".py",
   "mimetype": "text/x-python",
   "name": "python",
   "nbconvert_exporter": "python",
   "pygments_lexer": "ipython3",
   "version": "3.8.5"
  }
 },
 "nbformat": 4,
 "nbformat_minor": 2
}
